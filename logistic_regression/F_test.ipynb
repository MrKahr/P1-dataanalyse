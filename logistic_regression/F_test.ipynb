{
 "cells": [
  {
   "cell_type": "markdown",
   "metadata": {},
   "source": [
    "# F-test"
   ]
  },
  {
   "cell_type": "markdown",
   "metadata": {},
   "source": [
    "## Import packages"
   ]
  },
  {
   "cell_type": "code",
   "execution_count": 1,
   "metadata": {},
   "outputs": [],
   "source": [
    "'''\n",
    "Credit to GitHub user Jaimin09\n",
    "Link: https://github.com/Jaimin09/Coding-Lane-Assets/tree/main/Logistic%20Regression%20in%20Python%20from%20Scratch\n",
    "Last accessed: 28/10/2021\n",
    "'''\n",
    "import copy\n",
    "import matplotlib.pyplot as plt\n",
    "import numpy as np\n",
    "import pandas as pd\n",
    "import portablelogresmodel as model\n",
    "import scipy\n",
    "\n",
    "from scipy import stats\n",
    "\n"
   ]
  },
  {
   "cell_type": "markdown",
   "metadata": {},
   "source": [
    "## Import data and set seed "
   ]
  },
  {
   "cell_type": "code",
   "execution_count": 2,
   "metadata": {
    "scrolled": true
   },
   "outputs": [],
   "source": [
    "# ! Get dataset\n",
    "filepath = 'Datasets\\dec_sep_MPHWA.csv' # Data for Specialized athletes i.e. competing in one sport\n",
    "df = pd.read_csv(filepath)\n",
    "df= df.reset_index() # Resets index for dataset \n",
    "\n",
    "dec_path = 'Datasets\\dec_MPHWA.csv' # Data for decathlon athletes \n",
    "dec_df = pd.read_csv(dec_path)\n",
    "dec_df = dec_df.reset_index() # Resets index for dataset \n",
    "\n",
    "# ! Set seed and seed calling function\n",
    "rng = np.random.default_rng(1) \n",
    "\n",
    "# List of variables we are interested in \n",
    "X_list = ['ID',  \n",
    "        'PreviousMedals',\n",
    "        'Height_div_avg', \n",
    "        'Weight_div_avg', \n",
    "        'Age_div_avg'\n",
    "        ]\n",
    "\n",
    "# List containing medals earned for each athlete  \n",
    "Y_list = ['ID', 'MedalEarned']\n",
    "\n",
    "# Import model parameters after portableregressionmodel.py has been run \n",
    "W_array = np.genfromtxt('Parameters/W.csv', delimiter=',')# Len of array is equal to the number of iterations of the model\n",
    "B_array = np.genfromtxt('Parameters/B.csv', delimiter=',')"
   ]
  },
  {
   "cell_type": "markdown",
   "metadata": {},
   "source": [
    "# F-test"
   ]
  },
  {
   "cell_type": "markdown",
   "metadata": {},
   "source": [
    "# Bearbejd data "
   ]
  },
  {
   "cell_type": "code",
   "execution_count": 9,
   "metadata": {},
   "outputs": [
    {
     "name": "stdout",
     "output_type": "stream",
     "text": [
      "[[ 0.    0.    0.   ...  0.    0.    0.  ]\n",
      " [ 4.21  1.49  6.16 ... -0.98  5.02 -7.53]\n",
      " [45.73 -9.64 -1.39 ...  4.97 -5.03 -8.56]\n",
      " [ 5.23  4.33 -2.39 ... -3.69 -2.69 -3.27]]\n"
     ]
    }
   ],
   "source": [
    "# Produce weight for model\n",
    "def ProduceWeights(df, W, B):\n",
    "\n",
    "    # Get data for model\n",
    "    X_model_df = df[X_list] # Dataframe contains X_list columns \n",
    "    Y_model_df = df[Y_list]\n",
    "\n",
    "    X_, Y_ = model.Reshape(X_model_df, Y_model_df) # Drops ID and transforms each column to a numpy array\n",
    "\n",
    "    # Get model guesses \n",
    "    \n",
    "    # Use dot product on the four weights and the variable values for each athlete i.e. Ath1 = w1*var1 + w2*var2(..) + B\n",
    "    lin_func = np.dot(W.T, X_) + B\n",
    "    \n",
    "    # Use linear expression in sigmoid function to get model guess \n",
    "    sf = model.Sigmoid(lin_func) \n",
    "    \n",
    "    return sf\n"
   ]
  },
  {
   "cell_type": "code",
   "execution_count": 4,
   "metadata": {
    "scrolled": true
   },
   "outputs": [],
   "source": [
    "def f_test_loop(W, B):\n",
    "    \n",
    "    # Create list to store \n",
    "    sig0_store = []\n",
    "    sig1_store = []\n",
    "    drop_ID = X_list[1:]\n",
    "    \n",
    "    for i,element in enumerate(drop_ID):\n",
    "        \n",
    "        # Change first parameter to 0 \n",
    "        print(f'vores i er {i}')\n",
    "        print(f'vores element er {element}')\n",
    "        W1 = copy.deepcopy(W)\n",
    "        print(f'vores len er {len(W1)}')\n",
    "        W1[i] = 0\n",
    "        \n",
    "        # Get list of model guesses if weights are unchanged \n",
    "        sig_0 = ProduceWeights(df, W, B)\n",
    "        print(sig_0)\n",
    "        \n",
    "        # Get a list of model guesses where weights are changed\n",
    "        sig_1 = ProduceWeights(df, W1, B)\n",
    "        print(sig_1)\n",
    "        \n",
    "        sig0_store.append(sig_0)\n",
    "        sig1_store.append(sig_1)\n",
    "    \n",
    "    return sig0_store, sig1_store\n",
    "\n"
   ]
  },
  {
   "cell_type": "markdown",
   "metadata": {},
   "source": [
    "# Call F_test"
   ]
  },
  {
   "cell_type": "code",
   "execution_count": 5,
   "metadata": {},
   "outputs": [
    {
     "name": "stdout",
     "output_type": "stream",
     "text": [
      "vores i er 0\n",
      "vores element er PreviousMedals\n",
      "vores len er 4\n",
      "[[ 0.    0.    0.   ...  0.    0.    0.  ]\n",
      " [ 4.21  1.49  6.16 ... -0.98  5.02 -7.53]\n",
      " [45.73 -9.64 -1.39 ...  4.97 -5.03 -8.56]\n",
      " [ 5.23  4.33 -2.39 ... -3.69 -2.69 -3.27]]\n",
      "[0.92524216 0.20173657 0.43566097 ... 0.55253714 0.37581016 0.29995489]\n",
      "[[ 0.    0.    0.   ...  0.    0.    0.  ]\n",
      " [ 4.21  1.49  6.16 ... -0.98  5.02 -7.53]\n",
      " [45.73 -9.64 -1.39 ...  4.97 -5.03 -8.56]\n",
      " [ 5.23  4.33 -2.39 ... -3.69 -2.69 -3.27]]\n",
      "[0.92524216 0.20173657 0.43566097 ... 0.55253714 0.37581016 0.29995489]\n",
      "vores i er 1\n",
      "vores element er Height_div_avg\n",
      "vores len er 4\n",
      "[[ 0.    0.    0.   ...  0.    0.    0.  ]\n",
      " [ 4.21  1.49  6.16 ... -0.98  5.02 -7.53]\n",
      " [45.73 -9.64 -1.39 ...  4.97 -5.03 -8.56]\n",
      " [ 5.23  4.33 -2.39 ... -3.69 -2.69 -3.27]]\n",
      "[0.92524216 0.20173657 0.43566097 ... 0.55253714 0.37581016 0.29995489]\n",
      "[[ 0.    0.    0.   ...  0.    0.    0.  ]\n",
      " [ 4.21  1.49  6.16 ... -0.98  5.02 -7.53]\n",
      " [45.73 -9.64 -1.39 ...  4.97 -5.03 -8.56]\n",
      " [ 5.23  4.33 -2.39 ... -3.69 -2.69 -3.27]]\n",
      "[0.92213526 0.19923577 0.41987367 ... 0.55507281 0.36356257 0.31676768]\n",
      "vores i er 2\n",
      "vores element er Weight_div_avg\n",
      "vores len er 4\n",
      "[[ 0.    0.    0.   ...  0.    0.    0.  ]\n",
      " [ 4.21  1.49  6.16 ... -0.98  5.02 -7.53]\n",
      " [45.73 -9.64 -1.39 ...  4.97 -5.03 -8.56]\n",
      " [ 5.23  4.33 -2.39 ... -3.69 -2.69 -3.27]]\n",
      "[0.92524216 0.20173657 0.43566097 ... 0.55253714 0.37581016 0.29995489]\n",
      "[[ 0.    0.    0.   ...  0.    0.    0.  ]\n",
      " [ 4.21  1.49  6.16 ... -0.98  5.02 -7.53]\n",
      " [45.73 -9.64 -1.39 ...  4.97 -5.03 -8.56]\n",
      " [ 5.23  4.33 -2.39 ... -3.69 -2.69 -3.27]]\n",
      "[0.32566492 0.33365407 0.46003613 ... 0.46465944 0.4624237  0.44020105]\n",
      "vores i er 3\n",
      "vores element er Age_div_avg\n",
      "vores len er 4\n",
      "[[ 0.    0.    0.   ...  0.    0.    0.  ]\n",
      " [ 4.21  1.49  6.16 ... -0.98  5.02 -7.53]\n",
      " [45.73 -9.64 -1.39 ...  4.97 -5.03 -8.56]\n",
      " [ 5.23  4.33 -2.39 ... -3.69 -2.69 -3.27]]\n",
      "[0.92524216 0.20173657 0.43566097 ... 0.55253714 0.37581016 0.29995489]\n",
      "[[ 0.    0.    0.   ...  0.    0.    0.  ]\n",
      " [ 4.21  1.49  6.16 ... -0.98  5.02 -7.53]\n",
      " [45.73 -9.64 -1.39 ...  4.97 -5.03 -8.56]\n",
      " [ 5.23  4.33 -2.39 ... -3.69 -2.69 -3.27]]\n",
      "[0.94741978 0.25644853 0.39402305 ... 0.48648425 0.33168873 0.25306099]\n"
     ]
    }
   ],
   "source": [
    "W_par = np.array([W_array[0][0], W_array[1][0], W_array[2][0], W_array[3][0]], ndmin= 0)\n",
    "B_par = B_array[0]\n",
    "\n",
    "p_vector_0, p_vector_1 = f_test_loop(W_par,B_par) "
   ]
  },
  {
   "cell_type": "markdown",
   "metadata": {},
   "source": [
    "# Test for normality"
   ]
  },
  {
   "cell_type": "code",
   "execution_count": 6,
   "metadata": {
    "scrolled": false
   },
   "outputs": [
    {
     "name": "stdout",
     "output_type": "stream",
     "text": [
      " vores variabel er: PreviousMedals \n",
      " vores x_norm er ShapiroResult(statistic=0.8946238160133362, pvalue=0.0), \n",
      " vores y_norm er ShapiroResult(statistic=0.8800283074378967, pvalue=0.0)\n",
      " vores variabel er: Height_div_avg \n",
      " vores x_norm er ShapiroResult(statistic=0.8946238160133362, pvalue=0.0), \n",
      " vores y_norm er ShapiroResult(statistic=0.8890291452407837, pvalue=0.0)\n",
      " vores variabel er: Weight_div_avg \n",
      " vores x_norm er ShapiroResult(statistic=0.8946238160133362, pvalue=0.0), \n",
      " vores y_norm er ShapiroResult(statistic=0.8226956129074097, pvalue=0.0)\n",
      " vores variabel er: Age_div_avg \n",
      " vores x_norm er ShapiroResult(statistic=0.8946238160133362, pvalue=0.0), \n",
      " vores y_norm er ShapiroResult(statistic=0.8803070187568665, pvalue=0.0)\n"
     ]
    },
    {
     "name": "stderr",
     "output_type": "stream",
     "text": [
      "C:\\Users\\mdsan\\anaconda3\\lib\\site-packages\\scipy\\stats\\morestats.py:1760: UserWarning: p-value may not be accurate for N > 5000.\n",
      "  warnings.warn(\"p-value may not be accurate for N > 5000.\")\n"
     ]
    }
   ],
   "source": [
    "def normality_loop(x_1, y_1):\n",
    "    #print(f'vores p_vector_0 er {p_vector_0} \\n vores p_vector_1 er {p_vector_1}')\n",
    "    x_norm = []\n",
    "    y_norm = []\n",
    "    drop_ID = X_list[1:]\n",
    "    for i in range(len(x_1)):\n",
    "        x_norm.append(scipy.stats.shapiro(x_1[i]))\n",
    "        y_norm.append(scipy.stats.shapiro(y_1[i]))\n",
    "        print(f' vores variabel er: {drop_ID[i]} \\n vores x_norm er {x_norm[i]}, \\n vores y_norm er {y_norm[i]}')\n",
    "    return x_norm,y_norm\n",
    "shapiro_0, shapiro_1 = normality_loop(p_vector_0, p_vector_1)\n",
    "\n",
    "\n",
    "\n",
    "#z = scipy.stats.probplot(df_sig_0[\"Prob\"], dist = 'norm', plot = plt)\n",
    "#q = scipy.stats.probplot(df_sig_1[\"Prob\"], dist = 'norm', plot = plt)\n",
    "\n",
    "#plt.show(z)\n",
    "#plt.show(q)\n",
    "\n",
    "# Test for normality showed that including previous medals, caused the distribution to be non-normal. PreviousMedals is therefore excluded. "
   ]
  },
  {
   "cell_type": "markdown",
   "metadata": {},
   "source": [
    "# F-test"
   ]
  },
  {
   "cell_type": "code",
   "execution_count": 7,
   "metadata": {},
   "outputs": [
    {
     "name": "stdout",
     "output_type": "stream",
     "text": [
      "vores variabel er PreviousMedals \n",
      " vores p er 5.223256799169462e-05\n",
      "nulhypotesen forkastes da p-værdien = 5.223256799169462e-05. Dermed er sandsynligheden for at de to fordelinger har samme varians lav. Variablen har stor betydning for modellens output.\n",
      "vores variabel er Height_div_avg \n",
      " vores p er 0.02825330415181948\n",
      "nulhypotesen forkastes da p-værdien = 0.02825330415181948. Dermed er sandsynligheden for at de to fordelinger har samme varians lav. Variablen har stor betydning for modellens output.\n",
      "vores variabel er Weight_div_avg \n",
      " vores p er 1.1102230246251565e-16\n",
      "nulhypotesen forkastes da p-værdien = 1.1102230246251565e-16. Dermed er sandsynligheden for at de to fordelinger har samme varians lav. Variablen har stor betydning for modellens output.\n",
      "vores variabel er Age_div_avg \n",
      " vores p er 0.9737840882713829\n",
      "nulhypotesen kan ikke forkastes da p-værdien = 0.9737840882713829. Dermed er der høj sandsynlighed for at de to fordelinger har samme varians. Variablen kan have stor betydning for modellens output.\n"
     ]
    },
    {
     "data": {
      "text/plain": [
       "[5.223256799169462e-05,\n",
       " 0.02825330415181948,\n",
       " 1.1102230246251565e-16,\n",
       " 0.9737840882713829]"
      ]
     },
     "execution_count": 7,
     "metadata": {},
     "output_type": "execute_result"
    }
   ],
   "source": [
    "# F-test: https://link.springer.com/book/10.1007%2F978-3-319-46162-5 \n",
    "# Code adapted from: https://www.statology.org/f-test-python/\n",
    "#define F-test function\n",
    "\n",
    "def f_test(x,y):\n",
    "    f_test_list = []\n",
    "    drop_ID = X_list[1:]\n",
    "    for i in range(len(x)):\n",
    "        f = np.var(x[i], ddof=1)/np.var(y[i], ddof=1) #calculate F test statistic \n",
    "        dfn = x[i].size-1 #define degrees of freedom numerator \n",
    "        dfd = y[i].size-1 #define degrees of freedom denominator \n",
    "        p = 1-scipy.stats.f.cdf(f, dfn, dfd) #find p-value of F test statistic\n",
    "        f_test_list.append(p)\n",
    "        print(f'vores variabel er {drop_ID[i]} \\n vores p er {p}')\n",
    "        if p <= 0.05:\n",
    "            print(f'nulhypotesen forkastes da p-værdien = {p}. Dermed er sandsynligheden for at de to fordelinger har samme varians lav. Variablen har stor betydning for modellens output.')\n",
    "        else:\n",
    "            print(f'nulhypotesen kan ikke forkastes da p-værdien = {p}. Dermed er der høj sandsynlighed for at de to fordelinger har samme varians. Variablen kan have stor betydning for modellens output.')\n",
    "    return f_test_list\n",
    "f_test(p_vector_0, p_vector_1)\n",
    "\n",
    "\n",
    "\n"
   ]
  }
 ],
 "metadata": {
  "kernelspec": {
   "display_name": "Python 3 (ipykernel)",
   "language": "python",
   "name": "python3"
  },
  "language_info": {
   "codemirror_mode": {
    "name": "ipython",
    "version": 3
   },
   "file_extension": ".py",
   "mimetype": "text/x-python",
   "name": "python",
   "nbconvert_exporter": "python",
   "pygments_lexer": "ipython3",
   "version": "3.8.8"
  }
 },
 "nbformat": 4,
 "nbformat_minor": 4
}
