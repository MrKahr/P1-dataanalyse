{
 "cells": [
  {
   "cell_type": "markdown",
   "metadata": {},
   "source": [
    "# ROC-curve for logistic regression model"
   ]
  },
  {
   "cell_type": "markdown",
   "metadata": {},
   "source": [
    "# Imports"
   ]
  },
  {
   "cell_type": "code",
   "execution_count": 1,
   "metadata": {},
   "outputs": [],
   "source": [
    "'''\n",
    "Credit to GitHub user Jaimin09\n",
    "Link: https://github.com/Jaimin09/Coding-Lane-Assets/tree/main/Logistic%20Regression%20in%20Python%20from%20Scratch\n",
    "Last accessed: 28/10/2021\n",
    "'''\n",
    "\n",
    "import numpy as np\n",
    "import pandas as pd\n",
    "import matplotlib.pyplot as plt\n",
    "import portablelogresmodel as model\n",
    "import math\n",
    "from sklearn import metrics\n",
    "from sklearn.metrics import roc_curve\n",
    "\n",
    "# ! Get dataset\n",
    "dec_path = 'Datasets/dec_MPHWA.csv'\n",
    "dec_df = pd.read_csv(dec_path)\n",
    "dec_df = dec_df.reset_index()"
   ]
  },
  {
   "cell_type": "code",
   "execution_count": 2,
   "metadata": {},
   "outputs": [],
   "source": [
    "W_array = np.genfromtxt('Parameters/W.csv', delimiter=',')\n",
    "B_array = np.genfromtxt('Parameters/B.csv', delimiter=',')\n"
   ]
  },
  {
   "cell_type": "markdown",
   "metadata": {},
   "source": [
    "# Roc curve"
   ]
  },
  {
   "cell_type": "code",
   "execution_count": 3,
   "metadata": {},
   "outputs": [],
   "source": [
    "X_list = ['ID', \n",
    "        'PreviousMedals', \n",
    "        'Height_div_avg', \n",
    "        'Weight_div_avg', \n",
    "        'Age_div_avg'\n",
    "        ]\n",
    "\n",
    "Y_list = ['ID', 'MedalEarned']\n",
    "\n",
    "\n",
    "def RocCurve(dec_df, W_array, B_array):\n",
    "    tp_l = []\n",
    "    fp_l = []\n",
    "    \n",
    "    cop_l = list(range(100, -1, -1))\n",
    "    \n",
    "    for i, cop_ in enumerate(cop_l):\n",
    "        cop = cop_ / 100\n",
    "        acc_l, occ_l = model.Decathlon(dec_df, X_list, Y_list, W_array, B_array, cop)\n",
    "        tpr, fpr = model.TPFP(occ_l)\n",
    "        tp_l.append(tpr)\n",
    "        fp_l.append(fpr)\n",
    "    \n",
    "    # Find smallest distance from optimal\n",
    "    distance_l = []\n",
    "    \n",
    "    for i in range(len(tp_l)):\n",
    "        distance = abs(math.sqrt((fp_l[i] - 0)**2 + (tp_l[i] - 1)**2))\n",
    "        distance_l.append(distance)\n",
    "    \n",
    "    opt_d = min(distance_l)\n",
    "    opt_d_ind = distance_l.index(opt_d)\n",
    "    opt_loc = [tp_l[opt_d_ind] for i in fp_l]\n",
    "    \n",
    "    print(f'The optimal cop is: {cop_l[opt_d_ind] / 100}')\n",
    "    x = np.linspace(0, 1, 100)\n",
    "    \n",
    "    # Plot ROC curve\n",
    "    plt.figure(1)\n",
    "    plt.plot(fp_l, tp_l)\n",
    "    plt.plot(x, x, linestyle= ':') # dashed line\n",
    "    \n",
    "    plt.plot(fp_l, opt_loc, linestyle= '--', color= 'grey')\n",
    "    plt.axvline(x= fp_l[opt_d_ind], ymin= 0, ymax= 1, linestyle= '--', color= 'grey')\n",
    "    \n",
    "    plt.xlabel('False Positive Rate')\n",
    "    plt.ylabel('True Positive Rate')\n",
    "    plt.title(f'ROC curve')\n",
    "    plt.show()\n",
    "    \n",
    "    return tp_l, fp_l"
   ]
  },
  {
   "cell_type": "code",
   "execution_count": 4,
   "metadata": {},
   "outputs": [
    {
     "name": "stdout",
     "output_type": "stream",
     "text": [
      "Decathlon results: avg 90.64%  min 90.64%  max 90.64% \n",
      "Decathlon results: avg 90.64%  min 90.64%  max 90.64% \n",
      "Decathlon results: avg 90.64%  min 90.64%  max 90.64% \n",
      "Decathlon results: avg 90.64%  min 90.64%  max 90.64% \n",
      "Decathlon results: avg 90.63%  min 90.44%  max 90.64% \n",
      "Decathlon results: avg 90.61%  min 90.02%  max 90.64% \n",
      "Decathlon results: avg 90.57%  min 89.81%  max 90.64% \n",
      "Decathlon results: avg 90.51%  min 89.6%  max 90.64% \n",
      "Decathlon results: avg 90.45%  min 89.6%  max 90.64% \n",
      "Decathlon results: avg 90.35%  min 89.4%  max 90.64% \n",
      "Decathlon results: avg 90.27%  min 89.19%  max 90.64% \n",
      "Decathlon results: avg 90.15%  min 88.98%  max 90.64% \n",
      "Decathlon results: avg 90.05%  min 88.98%  max 90.64% \n",
      "Decathlon results: avg 89.95%  min 88.98%  max 90.64% \n",
      "Decathlon results: avg 89.83%  min 88.98%  max 90.64% \n",
      "Decathlon results: avg 89.68%  min 88.77%  max 90.64% \n",
      "Decathlon results: avg 89.59%  min 88.77%  max 90.64% \n",
      "Decathlon results: avg 89.48%  min 88.77%  max 90.64% \n",
      "Decathlon results: avg 89.41%  min 88.77%  max 90.44% \n",
      "Decathlon results: avg 89.3%  min 88.57%  max 90.44% \n",
      "Decathlon results: avg 89.19%  min 88.36%  max 90.44% \n",
      "Decathlon results: avg 89.14%  min 88.36%  max 90.44% \n",
      "Decathlon results: avg 89.11%  min 88.15%  max 90.44% \n",
      "Decathlon results: avg 89.0%  min 88.36%  max 90.44% \n",
      "Decathlon results: avg 88.91%  min 87.94%  max 90.44% \n",
      "Decathlon results: avg 88.83%  min 87.94%  max 89.81% \n",
      "Decathlon results: avg 88.79%  min 87.94%  max 89.6% \n",
      "Decathlon results: avg 88.68%  min 87.94%  max 90.02% \n",
      "Decathlon results: avg 88.59%  min 87.94%  max 89.81% \n",
      "Decathlon results: avg 88.44%  min 87.73%  max 89.6% \n",
      "Decathlon results: avg 88.32%  min 87.53%  max 89.4% \n",
      "Decathlon results: avg 88.2%  min 87.53%  max 88.77% \n",
      "Decathlon results: avg 88.11%  min 87.32%  max 88.77% \n",
      "Decathlon results: avg 88.01%  min 86.9%  max 88.77% \n",
      "Decathlon results: avg 87.88%  min 86.49%  max 88.57% \n",
      "Decathlon results: avg 87.66%  min 85.65%  max 88.57% \n",
      "Decathlon results: avg 87.34%  min 85.03%  max 88.15% \n",
      "Decathlon results: avg 86.92%  min 83.78%  max 88.15% \n",
      "Decathlon results: avg 86.47%  min 82.74%  max 88.15% \n",
      "Decathlon results: avg 85.98%  min 81.7%  max 88.36% \n",
      "Decathlon results: avg 85.26%  min 81.29%  max 88.15% \n",
      "Decathlon results: avg 84.55%  min 80.46%  max 87.94% \n",
      "Decathlon results: avg 83.68%  min 79.21%  max 87.94% \n",
      "Decathlon results: avg 82.71%  min 77.13%  max 87.11% \n",
      "Decathlon results: avg 81.75%  min 76.3%  max 86.9% \n",
      "Decathlon results: avg 80.7%  min 75.47%  max 86.28% \n",
      "Decathlon results: avg 79.57%  min 74.22%  max 84.41% \n",
      "Decathlon results: avg 78.27%  min 72.14%  max 84.82% \n",
      "Decathlon results: avg 76.88%  min 70.27%  max 83.58% \n",
      "Decathlon results: avg 75.44%  min 68.19%  max 80.46% \n",
      "Decathlon results: avg 73.57%  min 66.11%  max 78.17% \n",
      "Decathlon results: avg 71.29%  min 62.58%  max 75.88% \n",
      "Decathlon results: avg 68.93%  min 60.5%  max 74.01% \n",
      "Decathlon results: avg 66.17%  min 58.42%  max 71.52% \n",
      "Decathlon results: avg 63.43%  min 56.76%  max 67.57% \n",
      "Decathlon results: avg 60.71%  min 54.47%  max 64.45% \n",
      "Decathlon results: avg 58.14%  min 51.98%  max 62.58% \n",
      "Decathlon results: avg 55.26%  min 48.86%  max 59.88% \n",
      "Decathlon results: avg 52.21%  min 46.99%  max 56.55% \n",
      "Decathlon results: avg 48.9%  min 43.87%  max 53.64% \n",
      "Decathlon results: avg 45.55%  min 40.33%  max 50.31% \n",
      "Decathlon results: avg 42.22%  min 36.59%  max 47.19% \n",
      "Decathlon results: avg 38.73%  min 33.47%  max 45.53% \n",
      "Decathlon results: avg 35.42%  min 30.35%  max 43.66% \n",
      "Decathlon results: avg 32.61%  min 26.82%  max 40.54% \n",
      "Decathlon results: avg 30.01%  min 22.87%  max 38.05% \n",
      "Decathlon results: avg 27.82%  min 20.17%  max 35.76% \n",
      "Decathlon results: avg 25.18%  min 17.46%  max 33.06% \n",
      "Decathlon results: avg 22.74%  min 14.76%  max 31.6% \n",
      "Decathlon results: avg 20.53%  min 13.93%  max 29.52% \n",
      "Decathlon results: avg 18.49%  min 12.89%  max 27.23% \n",
      "Decathlon results: avg 16.85%  min 11.64%  max 25.16% \n",
      "Decathlon results: avg 15.35%  min 11.23%  max 23.49% \n",
      "Decathlon results: avg 14.17%  min 10.81%  max 21.0% \n",
      "Decathlon results: avg 13.21%  min 10.4%  max 19.96% \n",
      "Decathlon results: avg 12.45%  min 10.19%  max 18.5% \n",
      "Decathlon results: avg 11.78%  min 9.56%  max 16.01% \n",
      "Decathlon results: avg 11.28%  min 9.56%  max 14.97% \n",
      "Decathlon results: avg 10.88%  min 9.36%  max 13.93% \n",
      "Decathlon results: avg 10.5%  min 9.36%  max 12.68% \n",
      "Decathlon results: avg 10.2%  min 9.36%  max 12.06% \n",
      "Decathlon results: avg 9.87%  min 9.36%  max 11.43% \n",
      "Decathlon results: avg 9.67%  min 9.36%  max 11.02% \n",
      "Decathlon results: avg 9.54%  min 9.36%  max 11.02% \n",
      "Decathlon results: avg 9.44%  min 9.36%  max 10.81% \n",
      "Decathlon results: avg 9.4%  min 9.36%  max 10.4% \n",
      "Decathlon results: avg 9.39%  min 9.36%  max 9.98% \n",
      "Decathlon results: avg 9.38%  min 9.36%  max 9.77% \n",
      "Decathlon results: avg 9.37%  min 9.36%  max 9.77% \n",
      "Decathlon results: avg 9.36%  min 9.36%  max 9.36% \n",
      "Decathlon results: avg 9.36%  min 9.36%  max 9.36% \n",
      "Decathlon results: avg 9.36%  min 9.36%  max 9.36% \n",
      "Decathlon results: avg 9.36%  min 9.36%  max 9.36% \n",
      "Decathlon results: avg 9.36%  min 9.36%  max 9.36% \n",
      "Decathlon results: avg 9.36%  min 9.36%  max 9.36% \n",
      "Decathlon results: avg 9.36%  min 9.36%  max 9.36% \n",
      "Decathlon results: avg 9.36%  min 9.36%  max 9.36% \n",
      "Decathlon results: avg 9.36%  min 9.36%  max 9.36% \n",
      "Decathlon results: avg 9.36%  min 9.36%  max 9.36% \n",
      "Decathlon results: avg 9.36%  min 9.36%  max 9.36% \n",
      "Decathlon results: avg 9.36%  min 9.36%  max 9.36% \n",
      "The optimal cop is: 0.43\n"
     ]
    },
    {
     "data": {
      "image/png": "[encoded data removed]",
      "text/plain": [
       "<Figure size 432x288 with 1 Axes>"
      ]
     },
     "metadata": {
      "needs_background": "light"
     },
     "output_type": "display_data"
    }
   ],
   "source": [
    "tp_l, fp_l = RocCurve(dec_df, W_array, B_array)"
   ]
  },
  {
   "cell_type": "code",
   "execution_count": 8,
   "metadata": {},
   "outputs": [
    {
     "ename": "ValueError",
     "evalue": "shapes (4,) and (481,5) not aligned: 4 (dim 0) != 481 (dim 0)",
     "output_type": "error",
     "traceback": [
      "\u001b[1;31m---------------------------------------------------------------------------\u001b[0m",
      "\u001b[1;31mValueError\u001b[0m                                Traceback (most recent call last)",
      "\u001b[1;32m<ipython-input-8-cd71e578800c>\u001b[0m in \u001b[0;36m<module>\u001b[1;34m\u001b[0m\n\u001b[0;32m      3\u001b[0m \u001b[1;33m\u001b[0m\u001b[0m\n\u001b[0;32m      4\u001b[0m \u001b[0mW_par\u001b[0m \u001b[1;33m=\u001b[0m \u001b[0mnp\u001b[0m\u001b[1;33m.\u001b[0m\u001b[0marray\u001b[0m\u001b[1;33m(\u001b[0m\u001b[1;33m[\u001b[0m\u001b[0mW_array\u001b[0m\u001b[1;33m[\u001b[0m\u001b[1;36m0\u001b[0m\u001b[1;33m]\u001b[0m\u001b[1;33m[\u001b[0m\u001b[1;36m0\u001b[0m\u001b[1;33m]\u001b[0m\u001b[1;33m,\u001b[0m \u001b[0mW_array\u001b[0m\u001b[1;33m[\u001b[0m\u001b[1;36m1\u001b[0m\u001b[1;33m]\u001b[0m\u001b[1;33m[\u001b[0m\u001b[1;36m0\u001b[0m\u001b[1;33m]\u001b[0m\u001b[1;33m,\u001b[0m \u001b[0mW_array\u001b[0m\u001b[1;33m[\u001b[0m\u001b[1;36m2\u001b[0m\u001b[1;33m]\u001b[0m\u001b[1;33m[\u001b[0m\u001b[1;36m0\u001b[0m\u001b[1;33m]\u001b[0m\u001b[1;33m,\u001b[0m \u001b[0mW_array\u001b[0m\u001b[1;33m[\u001b[0m\u001b[1;36m3\u001b[0m\u001b[1;33m]\u001b[0m\u001b[1;33m[\u001b[0m\u001b[1;36m0\u001b[0m\u001b[1;33m]\u001b[0m\u001b[1;33m]\u001b[0m\u001b[1;33m,\u001b[0m \u001b[0mndmin\u001b[0m\u001b[1;33m=\u001b[0m \u001b[1;36m0\u001b[0m\u001b[1;33m)\u001b[0m\u001b[1;33m\u001b[0m\u001b[1;33m\u001b[0m\u001b[0m\n\u001b[1;32m----> 5\u001b[1;33m \u001b[0msf\u001b[0m \u001b[1;33m=\u001b[0m \u001b[0mmodel\u001b[0m\u001b[1;33m.\u001b[0m\u001b[0mClassify\u001b[0m\u001b[1;33m(\u001b[0m\u001b[0mX_dec\u001b[0m\u001b[1;33m,\u001b[0m \u001b[0mW_par\u001b[0m\u001b[1;33m,\u001b[0m \u001b[0mB_array\u001b[0m\u001b[1;33m[\u001b[0m\u001b[1;36m0\u001b[0m\u001b[1;33m]\u001b[0m\u001b[1;33m,\u001b[0m \u001b[0mcop\u001b[0m\u001b[1;33m=\u001b[0m \u001b[1;36m0.50\u001b[0m\u001b[1;33m)\u001b[0m\u001b[1;33m\u001b[0m\u001b[1;33m\u001b[0m\u001b[0m\n\u001b[0m\u001b[0;32m      6\u001b[0m \u001b[1;33m\u001b[0m\u001b[0m\n\u001b[0;32m      7\u001b[0m \u001b[0mfalse_positive_rate\u001b[0m\u001b[1;33m,\u001b[0m \u001b[0mtrue_positive_rate\u001b[0m\u001b[1;33m,\u001b[0m \u001b[0mthreshold\u001b[0m \u001b[1;33m=\u001b[0m \u001b[0mroc_curve\u001b[0m\u001b[1;33m(\u001b[0m\u001b[0mY_dec\u001b[0m\u001b[1;33m,\u001b[0m \u001b[0msf\u001b[0m\u001b[1;33m)\u001b[0m\u001b[1;33m\u001b[0m\u001b[1;33m\u001b[0m\u001b[0m\n",
      "\u001b[1;32m~\\OneDrive - Aalborg Universitet\\DV\\p1\\P1_program\\P1-dataanalyse\\logistic_regression\\portablelogresmodel.py\u001b[0m in \u001b[0;36mClassify\u001b[1;34m(X, W, B, cop)\u001b[0m\n\u001b[0;32m    150\u001b[0m \u001b[1;31m# * Classify winners and losers\u001b[0m\u001b[1;33m\u001b[0m\u001b[1;33m\u001b[0m\u001b[1;33m\u001b[0m\u001b[0m\n\u001b[0;32m    151\u001b[0m \u001b[1;32mdef\u001b[0m \u001b[0mClassify\u001b[0m\u001b[1;33m(\u001b[0m\u001b[0mX\u001b[0m\u001b[1;33m,\u001b[0m \u001b[0mW\u001b[0m\u001b[1;33m,\u001b[0m \u001b[0mB\u001b[0m\u001b[1;33m,\u001b[0m \u001b[0mcop\u001b[0m\u001b[1;33m)\u001b[0m\u001b[1;33m:\u001b[0m\u001b[1;33m\u001b[0m\u001b[1;33m\u001b[0m\u001b[0m\n\u001b[1;32m--> 152\u001b[1;33m     \u001b[0mlin_func\u001b[0m \u001b[1;33m=\u001b[0m \u001b[0mnp\u001b[0m\u001b[1;33m.\u001b[0m\u001b[0mdot\u001b[0m\u001b[1;33m(\u001b[0m\u001b[0mW\u001b[0m\u001b[1;33m.\u001b[0m\u001b[0mT\u001b[0m\u001b[1;33m,\u001b[0m \u001b[0mX\u001b[0m\u001b[1;33m)\u001b[0m \u001b[1;33m+\u001b[0m \u001b[0mB\u001b[0m \u001b[1;31m# Linear function\u001b[0m\u001b[1;33m\u001b[0m\u001b[1;33m\u001b[0m\u001b[0m\n\u001b[0m\u001b[0;32m    153\u001b[0m     \u001b[0msf\u001b[0m \u001b[1;33m=\u001b[0m \u001b[0mSigmoid\u001b[0m\u001b[1;33m(\u001b[0m\u001b[0mlin_func\u001b[0m\u001b[1;33m)\u001b[0m \u001b[1;31m# Sigmoid function\u001b[0m\u001b[1;33m\u001b[0m\u001b[1;33m\u001b[0m\u001b[0m\n\u001b[0;32m    154\u001b[0m \u001b[1;33m\u001b[0m\u001b[0m\n",
      "\u001b[1;32m<__array_function__ internals>\u001b[0m in \u001b[0;36mdot\u001b[1;34m(*args, **kwargs)\u001b[0m\n",
      "\u001b[1;31mValueError\u001b[0m: shapes (4,) and (481,5) not aligned: 4 (dim 0) != 481 (dim 0)"
     ]
    }
   ],
   "source": [
    "Y_dec = dec_df[Y_list]\n",
    "X_dec = dec_df[X_list]\n",
    "\n",
    "W_par = np.array([W_array[0][0], W_array[1][0], W_array[2][0], W_array[3][0]], ndmin= 0)\n",
    "sf = model.Classify(X_dec, W_par, B_array[0], cop= 0.50)\n",
    "\n",
    "false_positive_rate, true_positive_rate, threshold = roc_curve(Y_dec, sf)\n",
    "\n",
    "plt.subplots(1, figsize=(7,7))\n",
    "plt.title('Receiver Operating Characteristic - Logistic regression')\n",
    "plt.plot(false_positive_rate_, true_positive_rate_)\n",
    "plt.plot([0, 1], ls=\"--\")\n",
    "plt.plot([0, 0], [1, 0] , c=\".7\"), plt.plot([1, 1] , c=\".7\")\n",
    "plt.ylabel('True Positive Rate')\n",
    "plt.xlabel('False Positive Rate')\n",
    "plt.show()"
   ]
  }
 ],
 "metadata": {
  "kernelspec": {
   "display_name": "Python 3",
   "language": "python",
   "name": "python3"
  },
  "language_info": {
   "codemirror_mode": {
    "name": "ipython",
    "version": 3
   },
   "file_extension": ".py",
   "mimetype": "text/x-python",
   "name": "python",
   "nbconvert_exporter": "python",
   "pygments_lexer": "ipython3",
   "version": "3.8.3"
  }
 },
 "nbformat": 4,
 "nbformat_minor": 4
}
