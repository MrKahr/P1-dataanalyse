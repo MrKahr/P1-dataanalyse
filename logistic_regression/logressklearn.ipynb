{
 "cells": [
  {
   "cell_type": "markdown",
   "metadata": {},
   "source": [
    "# Import"
   ]
  },
  {
   "cell_type": "code",
   "execution_count": 2,
   "metadata": {},
   "outputs": [],
   "source": [
    "from sklearn.linear_model import LogisticRegression\n",
    "import pandas as pd\n",
    "import portablelogresmodel as model\n",
    "import numpy as np\n",
    "import matplotlib.pyplot as plt\n",
    "import seaborn as sns\n",
    "from sklearn import metrics\n",
    "from sklearn.metrics import roc_curve\n",
    "from imblearn.over_sampling import RandomOverSampler"
   ]
  },
  {
   "cell_type": "code",
   "execution_count": 3,
   "metadata": {},
   "outputs": [],
   "source": [
    "filepath = 'Datasets/dec_sep_MPHWA.csv'\n",
    "df = pd.read_csv(filepath)\n",
    "df = df.reset_index()\n",
    "\n",
    "filepath_ = 'Other_functions/df_MPHWA_Athletics_3.csv'\n",
    "df_ = pd.read_csv(filepath_)\n",
    "df_ = df_.reset_index()"
   ]
  },
  {
   "cell_type": "code",
   "execution_count": 4,
   "metadata": {},
   "outputs": [],
   "source": [
    "def EvenDF(df, rng):\n",
    "    # Split dataframe into won a medal and didnt win a medal\n",
    "    df_1 = df[df.MedalEarned == 1]\n",
    "    df_0 = df[df.MedalEarned == 0]\n",
    "    \n",
    "    # Randomly sample df_0 to size of df_1\n",
    "    df_0 = df_0.sample(n = len(df_1), random_state=rng.integers(100000))\n",
    "    \n",
    "    return df_1, df_0\n",
    "\n",
    "\n",
    "def TrainValidate(df, rng):\n",
    "    # Randomly sample df_0 to size of df_1\n",
    "    df_1, df_0 = EvenDF(df, rng)\n",
    "    \n",
    "    # Randomly sample validate df_1 and df_0\n",
    "    df_1_validate = df_1.sample(frac= 0.2, random_state=rng.integers(100000))\n",
    "    df_0_validate = df_0.sample(frac= 0.2, random_state=rng.integers(100000))\n",
    "    \n",
    "    # Remove validation samples from df_1 and df_0\n",
    "    # The rest of df_1 and df_0 are training\n",
    "    df_1_train = df_1.drop(df_1_validate.index)\n",
    "    df_0_train = df_0.drop(df_0_validate.index)\n",
    "    \n",
    "    # concatinate training and validation\n",
    "    df_validate_list = [df_1_validate, df_0_validate]\n",
    "    df_train_list =    [df_1_train, df_0_train]\n",
    "    \n",
    "    df_validate = pd.concat(df_validate_list)\n",
    "    df_train =    pd.concat(df_train_list)\n",
    "    \n",
    "    # Reduce and split X and Y dataframes\n",
    "    X_validate = df_validate.drop(['MedalEarned'], axis= 1)\n",
    "    Y_validate = df_validate['MedalEarned']\n",
    "    X_train =    df_train.drop(['MedalEarned'], axis= 1)\n",
    "    Y_train =    df_train['MedalEarned']\n",
    "    \n",
    "    return X_train, Y_train, X_validate, Y_validate\n"
   ]
  },
  {
   "cell_type": "markdown",
   "metadata": {},
   "source": [
    "# Ready dataset"
   ]
  },
  {
   "cell_type": "code",
   "execution_count": 5,
   "metadata": {},
   "outputs": [],
   "source": [
    "df_d = df.drop(['ID', 'Name', 'Team', 'Games', 'Season', 'City', 'Sport', 'Medal', 'Unnamed: 0', 'index'], axis= 1)\n",
    "df_dummy = pd.get_dummies(df_d)"
   ]
  },
  {
   "cell_type": "code",
   "execution_count": 6,
   "metadata": {},
   "outputs": [],
   "source": [
    "df_d_ = df_.drop(['ID', 'Name', 'Team', 'Games', 'Season', 'City', 'Sport', 'Medal', 'Unnamed: 0', 'index'], axis= 1)\n",
    "df_dummy_ = pd.get_dummies(df_d_)"
   ]
  },
  {
   "cell_type": "code",
   "execution_count": 7,
   "metadata": {},
   "outputs": [],
   "source": [
    "rng = np.random.default_rng(12345)\n",
    "X_train, Y_train, X_validate, Y_validate = TrainValidate(df_dummy, rng)"
   ]
  },
  {
   "cell_type": "code",
   "execution_count": 8,
   "metadata": {},
   "outputs": [],
   "source": [
    "rng = np.random.default_rng(12345)\n",
    "X_train_, Y_train_, X_validate_, Y_validate_ = TrainValidate(df_dummy_, rng)"
   ]
  },
  {
   "cell_type": "markdown",
   "metadata": {},
   "source": [
    "# Fit model"
   ]
  },
  {
   "cell_type": "code",
   "execution_count": 9,
   "metadata": {},
   "outputs": [
    {
     "data": {
      "text/plain": [
       "LogisticRegression(solver='liblinear')"
      ]
     },
     "execution_count": 9,
     "metadata": {},
     "output_type": "execute_result"
    }
   ],
   "source": [
    "logisticRegr = LogisticRegression(solver= 'liblinear')\n",
    "logisticRegr.fit(X_train, Y_train)"
   ]
  },
  {
   "cell_type": "code",
   "execution_count": 10,
   "metadata": {},
   "outputs": [
    {
     "data": {
      "text/plain": [
       "LogisticRegression(max_iter=10000)"
      ]
     },
     "execution_count": 10,
     "metadata": {},
     "output_type": "execute_result"
    }
   ],
   "source": [
    "logisticRegr_ = LogisticRegression(max_iter= 10000)\n",
    "logisticRegr_.fit(X_train_, Y_train_)"
   ]
  },
  {
   "cell_type": "markdown",
   "metadata": {},
   "source": [
    "# Visualize result"
   ]
  },
  {
   "cell_type": "code",
   "execution_count": 15,
   "metadata": {},
   "outputs": [
    {
     "name": "stdout",
     "output_type": "stream",
     "text": [
      "75.27\n"
     ]
    },
    {
     "data": {
      "text/plain": [
       "Text(0.5, 1.0, 'Accuracy Score: 75.27')"
      ]
     },
     "execution_count": 15,
     "metadata": {},
     "output_type": "execute_result"
    },
    {
     "data": {
      "image/png": "[encoded data removed]",
      "text/plain": [
       "<Figure size 360x360 with 2 Axes>"
      ]
     },
     "metadata": {
      "needs_background": "light"
     },
     "output_type": "display_data"
    }
   ],
   "source": [
    "predictions = logisticRegr.predict(X_validate)\n",
    "cm = metrics.confusion_matrix(Y_validate, predictions)\n",
    "\n",
    "score = logisticRegr.score(X_validate, Y_validate)\n",
    "r_score = round(score * 100, 2)\n",
    "print(r_score)\n",
    "\n",
    "plt.figure(figsize=(5,5))\n",
    "sns.heatmap(cm, annot=True, fmt=\".0f\", square = True)\n",
    "plt.ylabel('Actual label')\n",
    "plt.xlabel('Predicted label')\n",
    "all_sample_title = 'Accuracy Score: {0}'.format(r_score)\n",
    "plt.title(all_sample_title)"
   ]
  },
  {
   "cell_type": "code",
   "execution_count": 12,
   "metadata": {},
   "outputs": [
    {
     "name": "stdout",
     "output_type": "stream",
     "text": [
      "75.45\n"
     ]
    },
    {
     "data": {
      "text/plain": [
       "Text(0.5, 1.0, 'Accuracy Score: 75.45')"
      ]
     },
     "execution_count": 12,
     "metadata": {},
     "output_type": "execute_result"
    },
    {
     "data": {
      "image/png": "[encoded data removed]",
      "text/plain": [
       "<Figure size 360x360 with 2 Axes>"
      ]
     },
     "metadata": {
      "needs_background": "light"
     },
     "output_type": "display_data"
    }
   ],
   "source": [
    "predictions_ = logisticRegr_.predict(X_validate_)\n",
    "cm_ = metrics.confusion_matrix(Y_validate_, predictions_)\n",
    "\n",
    "score_ = logisticRegr_.score(X_validate_, Y_validate_)\n",
    "r_score_ = round(score_ * 100, 2)\n",
    "print(r_score_)\n",
    "\n",
    "plt.figure(figsize=(5,5))\n",
    "sns.heatmap(cm_, annot=True, fmt=\".0f\", square = True)\n",
    "plt.ylabel('Actual label')\n",
    "plt.xlabel('Predicted label')\n",
    "all_sample_title_ = 'Accuracy Score: {0}'.format(r_score_)\n",
    "plt.title(all_sample_title_)"
   ]
  },
  {
   "cell_type": "markdown",
   "metadata": {},
   "source": [
    "# ROC-curve"
   ]
  },
  {
   "cell_type": "code",
   "execution_count": 13,
   "metadata": {},
   "outputs": [
    {
     "data": {
      "image/png": "[encoded data removed]",
      "text/plain": [
       "<Figure size 504x504 with 1 Axes>"
      ]
     },
     "metadata": {
      "needs_background": "light"
     },
     "output_type": "display_data"
    }
   ],
   "source": [
    "pred_prob = logisticRegr.predict_proba(X_validate)[:,1]\n",
    "false_positive_rate, true_positive_rate, threshold = roc_curve(Y_validate, pred_prob)\n",
    "\n",
    "plt.subplots(1, figsize=(7,7))\n",
    "plt.title('Receiver Operating Characteristic - Logistic regression')\n",
    "plt.plot(false_positive_rate, true_positive_rate)\n",
    "plt.plot([0, 1], ls=\"--\")\n",
    "plt.plot([0, 0], [1, 0] , c=\".7\"), plt.plot([1, 1] , c=\".7\")\n",
    "plt.ylabel('True Positive Rate')\n",
    "plt.xlabel('False Positive Rate')\n",
    "plt.show()"
   ]
  },
  {
   "cell_type": "code",
   "execution_count": 14,
   "metadata": {},
   "outputs": [
    {
     "data": {
      "image/png": "[encoded data removed]",
      "text/plain": [
       "<Figure size 504x504 with 1 Axes>"
      ]
     },
     "metadata": {
      "needs_background": "light"
     },
     "output_type": "display_data"
    }
   ],
   "source": [
    "pred_prob_ = logisticRegr_.predict_proba(X_validate_)[:,1]\n",
    "false_positive_rate_, true_positive_rate_, threshold_ = roc_curve(Y_validate_, pred_prob_)\n",
    "\n",
    "plt.subplots(1, figsize=(7,7))\n",
    "plt.title('Receiver Operating Characteristic - Logistic regression')\n",
    "plt.plot(false_positive_rate_, true_positive_rate_)\n",
    "plt.plot([0, 1], ls=\"--\")\n",
    "plt.plot([0, 0], [1, 0] , c=\".7\"), plt.plot([1, 1] , c=\".7\")\n",
    "plt.ylabel('True Positive Rate')\n",
    "plt.xlabel('False Positive Rate')\n",
    "plt.show()"
   ]
  }
 ],
 "metadata": {
  "interpreter": {
   "hash": "b3ba2566441a7c06988d0923437866b63cedc61552a5af99d1f4fb67d367b25f"
  },
  "kernelspec": {
   "display_name": "Python 3",
   "language": "python",
   "name": "python3"
  },
  "language_info": {
   "codemirror_mode": {
    "name": "ipython",
    "version": 3
   },
   "file_extension": ".py",
   "mimetype": "text/x-python",
   "name": "python",
   "nbconvert_exporter": "python",
   "pygments_lexer": "ipython3",
   "version": "3.8.5"
  }
 },
 "nbformat": 4,
 "nbformat_minor": 2
}
