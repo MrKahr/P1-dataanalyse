{
 "cells": [
  {
   "cell_type": "markdown",
   "metadata": {},
   "source": [
    "# ROC-curve for logistic regression model"
   ]
  },
  {
   "cell_type": "markdown",
   "metadata": {},
   "source": [
    "# Imports"
   ]
  },
  {
   "cell_type": "code",
   "execution_count": 1,
   "metadata": {},
   "outputs": [],
   "source": [
    "'''\n",
    "Credit to GitHub user Jaimin09\n",
    "Link: https://github.com/Jaimin09/Coding-Lane-Assets/tree/main/Logistic%20Regression%20in%20Python%20from%20Scratch\n",
    "Last accessed: 28/10/2021\n",
    "'''\n",
    "\n",
    "import numpy as np\n",
    "import pandas as pd\n",
    "import matplotlib.pyplot as plt\n",
    "import copy\n",
    "import portablelogresmodel as model\n",
    "import scipy\n",
    "from scipy import stats\n",
    "\n",
    "# ! Get dataset\n",
    "filepath = 'dec_sep_MPHWAE.csv'\n",
    "df = pd.read_csv(filepath)\n",
    "df= df.reset_index()\n",
    "\n",
    "dec_path = 'dec_MPHWA.csv'\n",
    "dec_df = pd.read_csv(dec_path)\n",
    "dec_df = dec_df.reset_index()"
   ]
  },
  {
   "cell_type": "markdown",
   "metadata": {},
   "source": [
    "# Variables for model"
   ]
  },
  {
   "cell_type": "code",
   "execution_count": 2,
   "metadata": {},
   "outputs": [],
   "source": [
    "X_list = ['ID', \n",
    "        'Height_div_avg', \n",
    "        'Weight_div_avg', \n",
    "        'Age_div_avg'\n",
    "        ]\n",
    "\n",
    "#'PreviousMedals', \n",
    "\n",
    "Y_list = ['ID', 'MedalEarned']"
   ]
  },
  {
   "cell_type": "markdown",
   "metadata": {},
   "source": [
    "# Run the model"
   ]
  },
  {
   "cell_type": "code",
   "execution_count": 3,
   "metadata": {},
   "outputs": [
    {
     "name": "stdout",
     "output_type": "stream",
     "text": [
      "40 runs left.\n",
      "30 runs left.\n",
      "20 runs left.\n",
      "10 runs left.\n",
      "0 runs left.\n"
     ]
    }
   ],
   "source": [
    "rng = np.random.default_rng(1)\n",
    "W_list, B_list = model.RunMore(df, X_list, Y_list, rng, times= 50, iterations= 5000, l_rate= 0.02)\n"
   ]
  },
  {
   "cell_type": "markdown",
   "metadata": {},
   "source": [
    "# F-test"
   ]
  },
  {
   "cell_type": "markdown",
   "metadata": {},
   "source": [
    "## Classify fucntion"
   ]
  },
  {
   "cell_type": "code",
   "execution_count": 4,
   "metadata": {},
   "outputs": [
    {
     "name": "stdout",
     "output_type": "stream",
     "text": [
      "[[0.53592332 0.70226123 0.62090655 ... 0.32798235 0.64142721 0.46575448]]\n",
      "2923.9748622227125\n",
      "[[0.55172058 0.6596669  0.57849647 ... 0.35088628 0.58958148 0.47333014]]\n",
      "2919.936380409222\n"
     ]
    }
   ],
   "source": [
    "# Classify til f_test \n",
    "def Classify_f(df, W, B):\n",
    "    \n",
    "    # Få data til model \n",
    "    X_dims = df[X_list] \n",
    "    Y_dims = df[Y_list]\n",
    "    X_dims, Y_dims = model.Reshape(X_dims, Y_dims)\n",
    "    \n",
    "    # Få modelgæt\n",
    "    lin_func = np.dot(W.T, X_dims) + B # Linear function\n",
    "    sf = model.Sigmoid(lin_func) # Sigmoid function\n",
    "    \n",
    "    return sf\n",
    "\n",
    "# Få liste af modelgæt, når w er udændret\n",
    "sig_0 = Classify_f(df, W_list[0], B_list[0])\n",
    "print(sig_0)\n",
    "sig_0_sum = np.sum(sig_0)\n",
    "print(sig_0_sum)\n",
    "\n",
    "# Få liste af modelgæt, når w_i = 0 er udændret\n",
    "\n",
    "# Lav en kopi af modelvægte, og sæt den første til 0\n",
    "W1_list = copy.deepcopy(W_list)\n",
    "W1_list[0][0] = 0 \n",
    "\n",
    "sig_1 = Classify_f(df, W1_list[0], B_list[0])\n",
    "print(sig_1)\n",
    "sig_1_sum = np.sum(sig_1)\n",
    "print(sig_1_sum)\n",
    "\n"
   ]
  },
  {
   "cell_type": "code",
   "execution_count": 5,
   "metadata": {
    "scrolled": false
   },
   "outputs": [
    {
     "name": "stdout",
     "output_type": "stream",
     "text": [
      "ShapiroResult(statistic=0.9996129274368286, pvalue=0.27036985754966736)\n"
     ]
    },
    {
     "name": "stderr",
     "output_type": "stream",
     "text": [
      "C:\\ProgramData\\Anaconda3\\lib\\site-packages\\scipy\\stats\\morestats.py:1681: UserWarning: p-value may not be accurate for N > 5000.\n",
      "  warnings.warn(\"p-value may not be accurate for N > 5000.\")\n"
     ]
    },
    {
     "data": {
      "image/png": "[encoded data removed]",
      "text/plain": [
       "<Figure size 432x288 with 1 Axes>"
      ]
     },
     "metadata": {
      "needs_background": "light"
     },
     "output_type": "display_data"
    }
   ],
   "source": [
    "x = scipy.stats.shapiro(sig_0)\n",
    "print(x)\n",
    "df_bonk = pd.DataFrame(sig_0.T, columns = ['sig_0'])\n",
    "q = scipy.stats.probplot(df_bonk['sig_0'], dist = 'norm', plot = plt)\n",
    "plt.show(q)"
   ]
  },
  {
   "cell_type": "code",
   "execution_count": 8,
   "metadata": {},
   "outputs": [
    {
     "name": "stdout",
     "output_type": "stream",
     "text": [
      "1.1102230246251565e-14 %\n"
     ]
    }
   ],
   "source": [
    "#define F-test function\n",
    "def f_test(x, y):\n",
    "    f = np.var(x, ddof=1)/np.var(y, ddof=1) #calculate F test statistic \n",
    "    dfn = x.size-1 #define degrees of freedom numerator \n",
    "    dfd = y.size-1 #define degrees of freedom denominator \n",
    "    p = 1-scipy.stats.f.cdf(f, dfn, dfd) #find p-value of F test statistic \n",
    "    return p\n",
    "\n",
    "#perform F-test\n",
    "p_val = f_test(sig_0, sig_1)\n",
    "print(p_val * 100, '%')"
   ]
  }
 ],
 "metadata": {
  "kernelspec": {
   "display_name": "Python 3",
   "language": "python",
   "name": "python3"
  },
  "language_info": {
   "codemirror_mode": {
    "name": "ipython",
    "version": 3
   },
   "file_extension": ".py",
   "mimetype": "text/x-python",
   "name": "python",
   "nbconvert_exporter": "python",
   "pygments_lexer": "ipython3",
   "version": "3.8.5"
  }
 },
 "nbformat": 4,
 "nbformat_minor": 4
}
