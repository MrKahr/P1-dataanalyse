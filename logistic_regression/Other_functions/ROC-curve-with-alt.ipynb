{
 "cells": [
  {
   "cell_type": "markdown",
   "metadata": {},
   "source": [
    "# ROC-curve for logistic regression model"
   ]
  },
  {
   "cell_type": "markdown",
   "metadata": {},
   "source": [
    "# Imports"
   ]
  },
  {
   "cell_type": "code",
   "execution_count": 1,
   "metadata": {},
   "outputs": [],
   "source": [
    "'''\n",
    "Credit to GitHub user Jaimin09\n",
    "Link: https://github.com/Jaimin09/Coding-Lane-Assets/tree/main/Logistic%20Regression%20in%20Python%20from%20Scratch\n",
    "Last accessed: 28/10/2021\n",
    "'''\n",
    "\n",
    "import numpy as np\n",
    "import pandas as pd\n",
    "import matplotlib.pyplot as plt\n",
    "import math\n",
    "import portablelogresmodel as model\n",
    "\n",
    "# ! Get dataset\n",
    "filepath = 'dec_sep_MPHWAE.csv'\n",
    "df = pd.read_csv(filepath)\n",
    "df= df.reset_index()\n",
    "\n",
    "dec_path = 'dec_MPHWA.csv'\n",
    "dec_df = pd.read_csv(dec_path)\n",
    "dec_df = dec_df.reset_index()"
   ]
  },
  {
   "cell_type": "markdown",
   "metadata": {},
   "source": [
    "# Variables for model"
   ]
  },
  {
   "cell_type": "code",
   "execution_count": 2,
   "metadata": {},
   "outputs": [],
   "source": [
    "X_list = ['ID', \n",
    "        'PreviousMedals', \n",
    "        'Height_div_avg', \n",
    "        'Weight_div_avg', \n",
    "        'Age_div_avg'\n",
    "        ]\n",
    "\n",
    "Y_list = ['ID', 'MedalEarned']"
   ]
  },
  {
   "cell_type": "markdown",
   "metadata": {},
   "source": [
    "# Run the model"
   ]
  },
  {
   "cell_type": "code",
   "execution_count": 3,
   "metadata": {},
   "outputs": [
    {
     "name": "stdout",
     "output_type": "stream",
     "text": [
      "40 runs left.\n",
      "30 runs left.\n",
      "20 runs left.\n",
      "10 runs left.\n",
      "0 runs left.\n"
     ]
    }
   ],
   "source": [
    "rng = np.random.default_rng(1)\n",
    "W_list, B_list = model.RunMore(df, X_list, Y_list, rng, times= 50, iterations= 5000, l_rate= 0.02)\n"
   ]
  },
  {
   "cell_type": "markdown",
   "metadata": {},
   "source": [
    "# Classify"
   ]
  },
  {
   "cell_type": "code",
   "execution_count": 4,
   "metadata": {},
   "outputs": [],
   "source": [
    "def Classify(X, W, B, cop):\n",
    "    lin_func = np.dot(W.T, X) + B # Linear function\n",
    "    sf = model.Sigmoid(lin_func) # Sigmoid function\n",
    "    \n",
    "    # Make sf binary array with data type int64\n",
    "    sf = sf > cop # Sets sf to one if > 0 or 0 if < 0\n",
    "    sf = np.array(sf, dtype = 'int64')\n",
    "    \n",
    "    return sf"
   ]
  },
  {
   "cell_type": "markdown",
   "metadata": {},
   "source": [
    "# Alt classify"
   ]
  },
  {
   "cell_type": "code",
   "execution_count": 5,
   "metadata": {},
   "outputs": [],
   "source": [
    "def AltClassify(df, X, W, B, wg):\n",
    "    # Calculate predictions\n",
    "    lf = np.dot(W.T, X) + B # Linear function\n",
    "    sf = model.Sigmoid(lf) # Sigmoid function\n",
    "    sf_T = sf.T\n",
    "    \n",
    "    # Add predictions to df\n",
    "    sf_pd = pd.DataFrame(sf_T, columns= ['Prediction'])\n",
    "    df_sf = pd.concat([df, sf_pd], axis= 1)\n",
    "    \n",
    "    # Find highest predictions for each year\n",
    "    df1 = df_sf.groupby(['Year'])\n",
    "    df2 = df1.apply(lambda x: x.sort_values(['Prediction'], ascending= False))\n",
    "    df3 = df2.reset_index(drop= True)\n",
    "    df4 = df3.groupby('Year').head(wg)\n",
    "    index_list = df4['index'].tolist()\n",
    "    \n",
    "    # Set highest predictions to 1 and rest to 0\n",
    "    for i in range(len(df_sf)):\n",
    "        if i in index_list:\n",
    "            df_sf.at[i, 'Prediction'] = 1\n",
    "        else:\n",
    "            df_sf.at[i, 'Prediction'] = 0\n",
    "    \n",
    "    sf_T_new = df_sf['Prediction'].to_numpy()\n",
    "    sf_int = np.array(sf_T_new, dtype = 'int64')\n",
    "    \n",
    "    return sf_int"
   ]
  },
  {
   "cell_type": "markdown",
   "metadata": {},
   "source": [
    "# Accuracy"
   ]
  },
  {
   "cell_type": "code",
   "execution_count": 6,
   "metadata": {},
   "outputs": [],
   "source": [
    "def Accuracy(sf, Y):\n",
    "    # 1 = True Pos, 0 = True Neg, -1 = False Neg, 2 = False Pos \n",
    "    guesses = sf * 2 - Y\n",
    "    occurance = [[x, list(guesses[0]).count(x)] for x in set(list(guesses[0]))]\n",
    "    occ_d = {1:0, 0:0, -1:0, 2:0}\n",
    "    \n",
    "    # Assign value to keys e.g. TP : 22\n",
    "    for i in occurance: \n",
    "        occ_d[i[0]] = i[1]\n",
    "    \n",
    "    # True Positive, True Negative, False Positive and False Negative\n",
    "    tp, tn, fp, fn = occ_d[1], occ_d[0], occ_d[2], occ_d[-1]\n",
    "    \n",
    "    # Calculate accuracy\n",
    "    acc = (tp + tn) / (tp + tn + fp + fn)\n",
    "    \n",
    "    return acc, occ_d"
   ]
  },
  {
   "cell_type": "markdown",
   "metadata": {},
   "source": [
    "# Decathlon"
   ]
  },
  {
   "cell_type": "code",
   "execution_count": 7,
   "metadata": {},
   "outputs": [],
   "source": [
    "def Decathlon(df, W_list, B_list, cop):\n",
    "    dec_acc_list = []\n",
    "    dec_occ_list = []\n",
    "    \n",
    "    # Reduce and split X and Y dataframes\n",
    "    X_dec = df[X_list]\n",
    "    Y_dec = df[Y_list]\n",
    "    \n",
    "    # Import and reshape dec data\n",
    "    X_dec, Y_dec = model.Reshape(X_dec, Y_dec)\n",
    "    \n",
    "    # Test parameters on dec\n",
    "    for i in range(len(W_list)):\n",
    "        sf = Classify(X_dec, W_list[i], B_list[i], cop)\n",
    "        da, dod = Accuracy(sf, Y_dec)\n",
    "        dec_acc_list.append(da)\n",
    "        dec_occ_list.append(dod)\n",
    "    \n",
    "    return dec_acc_list, dec_occ_list"
   ]
  },
  {
   "cell_type": "code",
   "execution_count": 8,
   "metadata": {},
   "outputs": [],
   "source": [
    "def DecathlonAlt(df, W_list, B_list, wg):\n",
    "    daal = []\n",
    "    daol = []\n",
    "    \n",
    "    # Reduce and split X and Y dataframes\n",
    "    X_dec = df[X_list]\n",
    "    Y_dec = df[Y_list]\n",
    "    \n",
    "    # Import and reshape dec data\n",
    "    X_dec, Y_dec = model.Reshape(X_dec, Y_dec)\n",
    "    \n",
    "    for i in range(len(W_list)):\n",
    "        sf = AltClassify(dec_df, X_dec, W_list[i], B_list[i], wg)\n",
    "        daa, daod = Accuracy(sf, Y_dec)\n",
    "        daal.append(daa)\n",
    "        daol.append(daod)\n",
    "        \n",
    "        return daal, daol"
   ]
  },
  {
   "cell_type": "markdown",
   "metadata": {},
   "source": [
    "# tp and fp"
   ]
  },
  {
   "cell_type": "code",
   "execution_count": 9,
   "metadata": {},
   "outputs": [],
   "source": [
    "def TPFP(occ_l= []):\n",
    "    tp,fp,tn,fn = 0,0,0,0 \n",
    "    \n",
    "    # Sum up all occurances of False negatives and positives\n",
    "    # 1 = True Pos, 0 = True Neg, -1 = False Neg, 2 = False Pos \n",
    "    for i, occ in enumerate(occ_l):\n",
    "        tp += occ[1]\n",
    "        tn += occ[0]\n",
    "        fn += occ[-1]\n",
    "        fp += occ[2]\n",
    "    \n",
    "    # True positive rate - sensitivity \n",
    "    tpr = tp / (tp + fn)\n",
    "    # False Positive - type 1 error\n",
    "    fpr = fp / (fp + tn)\n",
    "    \n",
    "    return tpr, fpr"
   ]
  },
  {
   "cell_type": "markdown",
   "metadata": {},
   "source": [
    "# Roc curve"
   ]
  },
  {
   "cell_type": "code",
   "execution_count": 10,
   "metadata": {},
   "outputs": [],
   "source": [
    "def RocCurve(dec_df, W_list, B_list, name, norm= False, alt= False):\n",
    "    tp_l = []\n",
    "    fp_l = []\n",
    "    \n",
    "    if norm:\n",
    "        cop_l = list(range(100, -1, -1))\n",
    "        \n",
    "        for i, cop_ in enumerate(cop_l):\n",
    "            cop = cop_ / 100\n",
    "            acc_l, occ_l = Decathlon(dec_df, W_list, B_list, cop)\n",
    "            tpr, fpr = TPFP(occ_l)\n",
    "            tp_l.append(tpr)\n",
    "            fp_l.append(fpr)\n",
    "    \n",
    "    if alt:\n",
    "        wg_l = list(range(0, 46, 1))\n",
    "        \n",
    "        for i, wg in enumerate(wg_l):\n",
    "            acc_l, occ_l = DecathlonAlt(dec_df, W_list, B_list, wg)\n",
    "            tpr, fpr = TPFP(occ_l)\n",
    "            tp_l.append(tpr)\n",
    "            fp_l.append(fpr)\n",
    "    \n",
    "    # Find smallest distance from optimal\n",
    "    distance_l = []\n",
    "    \n",
    "    for i in range(len(tp_l)):\n",
    "        distance = abs(math.sqrt((fp_l[i] - 0)**2 + (tp_l[i] - 1)**2))\n",
    "        distance_l.append(distance)\n",
    "    \n",
    "    opt_d = min(distance_l)\n",
    "    opt_d_ind = distance_l.index(opt_d)\n",
    "    opt_loc = [tp_l[opt_d_ind] for i in fp_l]\n",
    "    \n",
    "    if norm:\n",
    "        print(f'The optimal cop is: {cop_l[opt_d_ind] / 100}')\n",
    "        x = np.linspace(0, 1, 100)\n",
    "    if alt:\n",
    "        print(f'The optimal wg is: {wg_l[opt_d_ind]}')\n",
    "        x = np.linspace(0, 1, 10)\n",
    "    \n",
    "    # Plot ROC curve\n",
    "    plt.figure(1)\n",
    "    plt.plot(fp_l, tp_l)\n",
    "    plt.plot(x, x, linestyle= ':') # dashed line\n",
    "    \n",
    "    plt.plot(fp_l, opt_loc, linestyle= '--', color= 'grey')\n",
    "    plt.axvline(x= fp_l[opt_d_ind], ymin= 0, ymax= 1, linestyle= '--', color= 'grey')\n",
    "    \n",
    "    plt.xlabel('False Positive Rate')\n",
    "    plt.ylabel('True Positive Rate')\n",
    "    plt.title(f'ROC curve: {name}')\n",
    "    plt.show()\n",
    "    \n",
    "    return tp_l, fp_l"
   ]
  },
  {
   "cell_type": "code",
   "execution_count": 11,
   "metadata": {},
   "outputs": [
    {
     "name": "stdout",
     "output_type": "stream",
     "text": [
      "The optimal cop is: 0.43\n"
     ]
    },
    {
     "data": {
      "image/png": "[encoded data removed]",
      "text/plain": [
       "<Figure size 432x288 with 1 Axes>"
      ]
     },
     "metadata": {
      "needs_background": "light"
     },
     "output_type": "display_data"
    }
   ],
   "source": [
    "tp_l, fp_l = RocCurve(dec_df, W_list, B_list, 'Normal classification', norm= True)"
   ]
  },
  {
   "cell_type": "code",
   "execution_count": 12,
   "metadata": {},
   "outputs": [
    {
     "name": "stdout",
     "output_type": "stream",
     "text": [
      "The optimal wg is: 10\n"
     ]
    },
    {
     "data": {
      "image/png": "[encoded data removed]",
      "text/plain": [
       "<Figure size 432x288 with 1 Axes>"
      ]
     },
     "metadata": {
      "needs_background": "light"
     },
     "output_type": "display_data"
    }
   ],
   "source": [
    "tp_l, fp_l = RocCurve(dec_df, W_list, B_list, 'Best per year classification', alt= True)"
   ]
  }
 ],
 "metadata": {
  "kernelspec": {
   "display_name": "Python 3",
   "language": "python",
   "name": "python3"
  },
  "language_info": {
   "codemirror_mode": {
    "name": "ipython",
    "version": 3
   },
   "file_extension": ".py",
   "mimetype": "text/x-python",
   "name": "python",
   "nbconvert_exporter": "python",
   "pygments_lexer": "ipython3",
   "version": "3.8.5"
  }
 },
 "nbformat": 4,
 "nbformat_minor": 4
}
